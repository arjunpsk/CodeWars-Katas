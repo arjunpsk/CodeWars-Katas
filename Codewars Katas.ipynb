{
 "cells": [
  {
   "cell_type": "code",
   "execution_count": 2,
   "metadata": {},
   "outputs": [
    {
     "data": {
      "text/plain": [
       "2318"
      ]
     },
     "execution_count": 2,
     "metadata": {},
     "output_type": "execute_result"
    }
   ],
   "source": [
    "# KATA 01\n",
    "\n",
    "# If we list all the natural numbers below 10 that are multiples of 3 or 5,\n",
    "# we get 3, 5, 6 and 9. The sum of these multiples is 23.\n",
    "# \n",
    "# Finish the solution so that it returns the sum of all the multiples of 3 or 5\n",
    "# below the number passed in. Additionally, if the number is negative, return 0 (for languages that do have them).\n",
    "# \n",
    "# Note: If the number is a multiple of both 3 and 5, only count it once.\n",
    "\n",
    "def solution(number):\n",
    "    i = 1\n",
    "    list = [] \n",
    "    if number < 0:\n",
    "        return(0)\n",
    "        \n",
    "    while i <= (number-1):\n",
    "        list.append(int(i))\n",
    "        i += 1\n",
    "   # print(list)\n",
    "    divisible = []\n",
    "    for num in list:\n",
    "        if num % 3 == 0:\n",
    "            divisible.append(int(num))\n",
    "        elif num % 5 == 0:\n",
    "            divisible.append(int(num))\n",
    "   # print(divisible)\n",
    "    return(sum(divisible))\n",
    "   \n",
    "\n",
    "solution(100)"
   ]
  }
 ],
 "metadata": {
  "interpreter": {
   "hash": "aee8b7b246df8f9039afb4144a1f6fd8d2ca17a180786b69acc140d282b71a49"
  },
  "kernelspec": {
   "display_name": "Python 3.10.4 64-bit",
   "language": "python",
   "name": "python3"
  },
  "language_info": {
   "codemirror_mode": {
    "name": "ipython",
    "version": 3
   },
   "file_extension": ".py",
   "mimetype": "text/x-python",
   "name": "python",
   "nbconvert_exporter": "python",
   "pygments_lexer": "ipython3",
   "version": "3.10.4"
  },
  "orig_nbformat": 4
 },
 "nbformat": 4,
 "nbformat_minor": 2
}
