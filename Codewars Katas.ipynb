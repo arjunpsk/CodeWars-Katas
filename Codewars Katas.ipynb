{
 "cells": [
  {
   "cell_type": "code",
   "execution_count": 2,
   "metadata": {},
   "outputs": [
    {
     "data": {
      "text/plain": [
       "2318"
      ]
     },
     "execution_count": 2,
     "metadata": {},
     "output_type": "execute_result"
    }
   ],
   "source": [
    "# KATA 01\n",
    "\n",
    "# If we list all the natural numbers below 10 that are multiples of 3 or 5,\n",
    "# we get 3, 5, 6 and 9. The sum of these multiples is 23.\n",
    "# \n",
    "# Finish the solution so that it returns the sum of all the multiples of 3 or 5\n",
    "# below the number passed in. Additionally, if the number is negative, return 0 (for languages that do have them).\n",
    "# \n",
    "# Note: If the number is a multiple of both 3 and 5, only count it once.\n",
    "\n",
    "def solution(number):\n",
    "    i = 1\n",
    "    list = [] \n",
    "    if number < 0:\n",
    "        return(0)\n",
    "        \n",
    "    while i <= (number-1):\n",
    "        list.append(int(i))\n",
    "        i += 1\n",
    "   # print(list)\n",
    "    divisible = []\n",
    "    for num in list:\n",
    "        if num % 3 == 0:\n",
    "            divisible.append(int(num))\n",
    "        elif num % 5 == 0:\n",
    "            divisible.append(int(num))\n",
    "   # print(divisible)\n",
    "    return(sum(divisible))\n",
    "   \n",
    "\n",
    "solution(1000)"
   ]
  },
  {
   "cell_type": "code",
   "execution_count": 1,
   "metadata": {},
   "outputs": [
    {
     "data": {
      "text/plain": [
       "'(123) 456-7890'"
      ]
     },
     "execution_count": 1,
     "metadata": {},
     "output_type": "execute_result"
    }
   ],
   "source": [
    "# KATA 02\n",
    "\n",
    "# Write a function that accepts an array of 10 integers (between 0 and 9), \n",
    "# that returns a string of those numbers in the form of a phone number.\n",
    "# \n",
    "# Example\n",
    "# create_phone_number([1, 2, 3, 4, 5, 6, 7, 8, 9, 0]) # => returns \"(123) 456-7890\"\n",
    "# The returned format must be correct in order to complete this challenge.\n",
    "# Don't forget the space after the closing parentheses!\n",
    "\n",
    "\n",
    "def create_phone_number(n):\n",
    "    s = ''.join(str(x) for x in n)\n",
    "\n",
    "    return f'({s[:3]}) {s[3:6]}-{s[6:]}'\n",
    "   \n",
    "create_phone_number([1, 2, 3, 4, 5, 6, 7, 8, 9, 0])\n",
    "\n"
   ]
  },
  {
   "cell_type": "code",
   "execution_count": 2,
   "metadata": {},
   "outputs": [
    {
     "data": {
      "text/plain": [
       "[4, -15]"
      ]
     },
     "execution_count": 2,
     "metadata": {},
     "output_type": "execute_result"
    }
   ],
   "source": [
    "# Kata 03\n",
    "\n",
    "# Given an array of integers.\n",
    "# \n",
    "# Return an array, where the first element is the count of positives numbers and the second element is sum of negative numbers. 0 is neither positive nor negative.\n",
    "# \n",
    "# If the input is an empty array or is null, return an empty array.\n",
    "# \n",
    "# Example\n",
    "# For input [1, 2, 3, 4, 5, 6, 7, 8, 9, 10, -11, -12, -13, -14, -15], you should return [10, -65].\n",
    "\n",
    "testing_arra = [0,1,2,3,4,-1,-2,-3,-4,-5]\n",
    "#testing_arra = []\n",
    "\n",
    "def count_positives_sum_negatives(arr):\n",
    "    a = 0\n",
    "    b = 0\n",
    "    if arr:\n",
    "        for x in arr:\n",
    "            if x > 0:\n",
    "                a += 1\n",
    "            elif x < 0:\n",
    "                b = b + x\n",
    "        arra = [a , b]\n",
    "        return arra\n",
    "    else:\n",
    "        return []\n",
    "    \n",
    "\n",
    "count_positives_sum_negatives(testing_arra)\n",
    "\n"
   ]
  },
  {
   "cell_type": "code",
   "execution_count": 15,
   "metadata": {},
   "outputs": [
    {
     "name": "stdout",
     "output_type": "stream",
     "text": [
      "dlrow olleH\n"
     ]
    }
   ],
   "source": [
    "# KATA 04 - 17th June 2022\n",
    "# \n",
    "# Complete the solution so that it reverses the string passed into it.\n",
    "# \n",
    "# 'world'  =>  'dlrow'\n",
    "# 'word'   =>  'drow'\n",
    "\n",
    "def solution(string):\n",
    "    reversed_string = string[::-1]\n",
    "    print(reversed_string)\n",
    "\n",
    "solution(\"Hello world\")"
   ]
  }
 ],
 "metadata": {
  "interpreter": {
   "hash": "aee8b7b246df8f9039afb4144a1f6fd8d2ca17a180786b69acc140d282b71a49"
  },
  "kernelspec": {
   "display_name": "Python 3.10.4 64-bit",
   "language": "python",
   "name": "python3"
  },
  "language_info": {
   "codemirror_mode": {
    "name": "ipython",
    "version": 3
   },
   "file_extension": ".py",
   "mimetype": "text/x-python",
   "name": "python",
   "nbconvert_exporter": "python",
   "pygments_lexer": "ipython3",
   "version": "3.10.4"
  },
  "orig_nbformat": 4
 },
 "nbformat": 4,
 "nbformat_minor": 2
}
